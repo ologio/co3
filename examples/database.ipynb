{
 "cells": [
  {
   "cell_type": "code",
   "execution_count": 1,
   "id": "6f6fbc7e-4fb9-4353-b2ee-9ea819a3c896",
   "metadata": {},
   "outputs": [
    {
     "name": "stderr",
     "output_type": "stream",
     "text": [
      "/home/smgr/.pyenv/versions/co4/lib/python3.12/site-packages/tqdm/auto.py:21: TqdmWarning: IProgress not found. Please update jupyter and ipywidgets. See https://ipywidgets.readthedocs.io/en/stable/user_install.html\n",
      "  from .autonotebook import tqdm as notebook_tqdm\n"
     ]
    }
   ],
   "source": [
    "import vegetables"
   ]
  },
  {
   "cell_type": "code",
   "execution_count": null,
   "id": "88fd0ea8-9c94-4569-a51b-823a04f32f55",
   "metadata": {},
   "outputs": [],
   "source": [
    "tomato = vegetables.Tomato('t1', 5)\n",
    "\n",
    "# test a register collation action\n",
    "tomato.collate('ripe')"
   ]
  }
 ],
 "metadata": {
  "kernelspec": {
   "display_name": "co3",
   "language": "python",
   "name": "co3"
  },
  "language_info": {
   "codemirror_mode": {
    "name": "ipython",
    "version": 3
   },
   "file_extension": ".py",
   "mimetype": "text/x-python",
   "name": "python",
   "nbconvert_exporter": "python",
   "pygments_lexer": "ipython3",
   "version": "3.12.2"
  }
 },
 "nbformat": 4,
 "nbformat_minor": 5
}
