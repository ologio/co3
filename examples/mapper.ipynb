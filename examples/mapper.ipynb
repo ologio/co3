{
 "cells": [
  {
   "cell_type": "code",
   "execution_count": 1,
   "id": "e02ccafe-e04d-4312-acba-e41cf7b1c021",
   "metadata": {},
   "outputs": [
    {
     "name": "stderr",
     "output_type": "stream",
     "text": [
      "/home/smgr/.pyenv/versions/co4/lib/python3.12/site-packages/tqdm/auto.py:21: TqdmWarning: IProgress not found. Please update jupyter and ipywidgets. See https://ipywidgets.readthedocs.io/en/stable/user_install.html\n",
      "  from .autonotebook import tqdm as notebook_tqdm\n"
     ]
    }
   ],
   "source": [
    "from co3 import Mapper\n",
    "\n",
    "import vegetables"
   ]
  },
  {
   "cell_type": "markdown",
   "id": "c0914069-7f3c-4213-8d34-f7566033e054",
   "metadata": {},
   "source": [
    "## Development notes\n",
    "- No registry actually needs to take place if there's a default type2component map or one supplied on creation. Can just collect right out of the gate\n",
    "- Need connective function (type to collation) and attribute map. Do we need to this with a subclass? If a func is passed in on init, I can type it appropriately I guess `Callable[[type[CO3],str,str|None],dict]`"
   ]
  },
  {
   "cell_type": "code",
   "execution_count": 3,
   "id": "7d80f7b9-7458-4ad4-8c1a-3ea56e796b4e",
   "metadata": {},
   "outputs": [],
   "source": [
    "vegetable_mapper = Mapper(\n",
    "    vegetables.Vegetable,\n",
    "    vegetables.vegetable_schema\n",
    ")"
   ]
  },
  {
   "cell_type": "code",
   "execution_count": null,
   "id": "d24d31b4-c4a6-4a1e-8bea-c44378aadfdd",
   "metadata": {},
   "outputs": [],
   "source": [
    "# not valid; tables need to be wrapped in CO3 Components\n",
    "vegetable_mapper.attach(\n",
    "    vegetables.Vegetable,\n",
    "    vegetables.vegetable_table,\n",
    ")"
   ]
  },
  {
   "cell_type": "code",
   "execution_count": 6,
   "id": "f9408562-bf50-4522-909c-318557f85948",
   "metadata": {},
   "outputs": [],
   "source": [
    "# manually attach component\n",
    "vegetable_mapper.attach(\n",
    "    vegetables.Tomato,\n",
    "    vegetables.vegetable_schema.get_component('tomato'),\n",
    "    coll_groups={\n",
    "        'aging':   vegetables.vegetable_schema.get_component('tomato_aging_states'),\n",
    "        'cooking': vegetables.vegetable_schema.get_component('tomato_cooking_states'),\n",
    "    },\n",
    ")"
   ]
  },
  {
   "cell_type": "code",
   "execution_count": 7,
   "id": "05fdd404-87ee-4187-832f-2305272758ae",
   "metadata": {},
   "outputs": [],
   "source": [
    "# attach by name in schema\n",
    "vegetable_mapper.attach(\n",
    "    vegetables.Tomato,\n",
    "    'tomato',\n",
    "    coll_groups={\n",
    "        'aging':   'tomato_aging_states',\n",
    "        'cooking': 'tomato_cooking_states',\n",
    "    },\n",
    ")"
   ]
  },
  {
   "cell_type": "code",
   "execution_count": null,
   "id": "e9b6af49-a69d-41cc-beae-1b6f171cd2f5",
   "metadata": {},
   "outputs": [],
   "source": [
    "# attach entire type hierarchy w/ type->name map\n",
    "vegetable_mapper.attach_hierarchy(\n",
    "# this might make more sense during init\n",
    "    lambda x:x.__name__.lower())\n",
    ")"
   ]
  },
  {
   "cell_type": "code",
   "execution_count": 9,
   "id": "2e4336ab-5b5f-484d-815d-164d4b6f40a0",
   "metadata": {},
   "outputs": [
    {
     "data": {
      "text/plain": [
       "{'co3_root': vegetables.Vegetable,\n",
       " 'schema': <co3.schemas.SQLSchema at 0x74ac03f5c8c0>,\n",
       " 'collector': <co3.collector.Collector at 0x74ac0357ae70>,\n",
       " 'composer': <co3.composer.Composer at 0x74ac0357a4b0>,\n",
       " 'attribute_comps': {vegetables.Tomato: <co3.components.SQLTable at 0x74ac09d4a720>},\n",
       " 'collation_groups': defaultdict(dict,\n",
       "             {vegetables.Tomato: {'aging': <co3.components.SQLTable at 0x74ac03f5cad0>,\n",
       "               'cooking': <co3.components.SQLTable at 0x74ac03f5cb00>}})}"
      ]
     },
     "execution_count": 9,
     "metadata": {},
     "output_type": "execute_result"
    }
   ],
   "source": [
    "vars(vegetable_mapper)"
   ]
  },
  {
   "cell_type": "code",
   "execution_count": 10,
   "id": "c16786d4-0b71-42d9-97f7-7893c542104e",
   "metadata": {},
   "outputs": [],
   "source": [
    "tomato = vegetables.Tomato('t1', 5)"
   ]
  },
  {
   "cell_type": "code",
   "execution_count": 11,
   "id": "884d6753-c763-4e71-824a-711436e203e1",
   "metadata": {},
   "outputs": [
    {
     "data": {
      "text/plain": [
       "<vegetables.Tomato at 0x74ac082bacc0>"
      ]
     },
     "execution_count": 11,
     "metadata": {},
     "output_type": "execute_result"
    }
   ],
   "source": [
    "tomato"
   ]
  },
  {
   "cell_type": "code",
   "execution_count": null,
   "id": "137d0bf1-940d-448c-91e9-01e7fc4f31b4",
   "metadata": {},
   "outputs": [],
   "source": []
  }
 ],
 "metadata": {
  "kernelspec": {
   "display_name": "co3",
   "language": "python",
   "name": "co3"
  },
  "language_info": {
   "codemirror_mode": {
    "name": "ipython",
    "version": 3
   },
   "file_extension": ".py",
   "mimetype": "text/x-python",
   "name": "python",
   "nbconvert_exporter": "python",
   "pygments_lexer": "ipython3",
   "version": "3.12.2"
  }
 },
 "nbformat": 4,
 "nbformat_minor": 5
}
